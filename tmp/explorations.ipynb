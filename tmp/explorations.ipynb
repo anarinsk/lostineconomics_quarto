{
 "cells": [
  {
   "cell_type": "code",
   "execution_count": 2,
   "metadata": {},
   "outputs": [],
   "source": []
  },
  {
   "cell_type": "markdown",
   "metadata": {},
   "source": [
    "## Copilot 지침 \n",
    "\n",
    "아래의 작업을 수행해줘. helium 혹은 selenium을 이용해 작업할꺼야. \n",
    "\n",
    "- 같은 디렉토리에 있는 `Your Watchlist.html` 파일을 로드해줘. \n",
    "- 표시된 페이지에 넘버링된 내용들을 하나씩 읽고 아래와 같이 분류해줘. \n",
    "- 임의 자리의 숫자와 \".\" 뒤에 타이틀을 추출해줘. \n",
    "- 메타 데이터 블럭에 \"Episode:\" 라는 내용이 포함되어 있다면, 해당 내용을 추출해줘. 없다면 \"Episode: None\"으로 처리해줘."
   ]
  },
  {
   "cell_type": "code",
   "execution_count": 20,
   "metadata": {},
   "outputs": [
    {
     "name": "stdout",
     "output_type": "stream",
     "text": [
      "Title: 1. 괴물, Episode: None\n",
      "Title: 2. 스픽 노 이블, Episode: None\n",
      "Title: 3. The Perfect Couple, Episode: None\n",
      "Title: 4. A Good Girl's Guide to Murder, Episode: None\n",
      "Title: 5. Amudo Eobsneun Supsokeseo, Episode: None\n",
      "Title: 6. The Watchers, Episode: None\n",
      "Title: 7. Jimenshitachi, Episode: None\n",
      "Title: 8. Troll Factory, Episode: None\n",
      "Title: 9. Haenseomgaijeu, Episode: None\n",
      "Title: 10. The Zone of Interest, Episode: None\n",
      "Title: 11. The Kill Room, Episode: None\n",
      "Title: 12. 사형에 이르는 병, Episode: None\n",
      "Title: 13. Dol-pung, Episode: None\n",
      "Title: 14. 99 Homes, Episode: None\n",
      "Title: 15. Ban Chao Buchayan, Episode: None\n",
      "Title: 16. Abigail, Episode: None\n",
      "Title: 17. Late Night with the Devil, Episode: None\n",
      "Title: 18. Ripley, Episode: None\n",
      "Title: 19. Furiosa: A Mad Max Saga, Episode: None\n",
      "Title: 20. The First Omen, Episode: None\n",
      "Title: 21. Deo Eiteu Syo, Episode: None\n",
      "Title: 22. 록키, Episode: None\n",
      "Title: 23. Creed III, Episode: None\n",
      "Title: 24. The Sympathizer, Love It or Leave It\n",
      "Title: 25. Shogun, Episode: None\n"
     ]
    }
   ],
   "source": [
    "from pathlib import Path\n",
    "\n",
    "from selenium import webdriver\n",
    "from selenium.webdriver.common.by import By\n",
    "\n",
    "# 2. webdriver를 사용하여 브라우저 열기\n",
    "driver = webdriver.Chrome()  # 크롬 드라이버를 사용합니다. 다른 브라우저를 사용하려면 해당 브라우저의 드라이버를 설치하세요.\n",
    "\n",
    "# 현재 디렉토리 가져오기\n",
    "current_directory = Path.cwd()\n",
    "\n",
    "# 파일 경로 결합\n",
    "file_path = current_directory / \"Your Watchlist.html\"\n",
    "\n",
    "# 4. 브라우저를 통해 HTML 파일 열기\n",
    "driver.get(f\"file://{file_path}\")\n",
    "\n",
    "# 5. 넘버링된 내용 추출\n",
    "class_item = \"ipc-metadata-list-summary-item\"\n",
    "class_title = \"ipc-title__text\"\n",
    "class_episode = \"leyIcI\"\n",
    "\n",
    "numbered_items = driver.find_elements(By.CLASS_NAME, class_item)\n",
    "\n",
    "# 6. 타이틀과 에피소드 정보 추출\n",
    "for item in numbered_items:\n",
    "    title_elements = item.find_elements(By.CLASS_NAME, class_title)\n",
    "    title = title_elements[0].text if title_elements else \"Title: None\"\n",
    "\n",
    "    episode_elements = item.find_elements(By.CLASS_NAME, class_episode)\n",
    "    episode_title_elements = item.find_elements(By.CLASS_NAME, \"dli-ep-title\")\n",
    "    episode = (\n",
    "        episode_title_elements[0].text\n",
    "        if episode_elements and \"Episode\" in episode_elements[0].text\n",
    "        else \"Episode: None\"\n",
    "    )\n",
    "\n",
    "    print(f\"Title: {title}, {episode}\")\n",
    "# 브라우저 닫기\n",
    "driver.quit()"
   ]
  }
 ],
 "metadata": {
  "kernelspec": {
   "display_name": ".venv",
   "language": "python",
   "name": "python3"
  },
  "language_info": {
   "codemirror_mode": {
    "name": "ipython",
    "version": 3
   },
   "file_extension": ".py",
   "mimetype": "text/x-python",
   "name": "python",
   "nbconvert_exporter": "python",
   "pygments_lexer": "ipython3",
   "version": "3.11.9"
  }
 },
 "nbformat": 4,
 "nbformat_minor": 2
}
